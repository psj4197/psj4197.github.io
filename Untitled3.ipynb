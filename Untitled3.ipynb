{
 "cells": [
  {
   "cell_type": "code",
   "execution_count": 2,
   "metadata": {},
   "outputs": [
    {
     "ename": "NameError",
     "evalue": "name 'aa' is not defined",
     "output_type": "error",
     "traceback": [
      "\u001b[1;31m---------------------------------------------------------------------------\u001b[0m",
      "\u001b[1;31mNameError\u001b[0m                                 Traceback (most recent call last)",
      "\u001b[1;32m<ipython-input-2-312382290f4f>\u001b[0m in \u001b[0;36m<module>\u001b[1;34m\u001b[0m\n\u001b[1;32m----> 1\u001b[1;33m \u001b[0maa\u001b[0m\u001b[1;33m\u001b[0m\u001b[1;33m\u001b[0m\u001b[0m\n\u001b[0m",
      "\u001b[1;31mNameError\u001b[0m: name 'aa' is not defined"
     ]
    }
   ],
   "source": [
    "aa"
   ]
  },
  {
   "cell_type": "code",
   "execution_count": 3,
   "metadata": {},
   "outputs": [],
   "source": [
    "%matplotlib inline\n",
    "import pandas as pd\n",
    "import numpy as np\n",
    "import seaborn as sns\n",
    "import matplotlib.pyplot as plt"
   ]
  },
  {
   "cell_type": "code",
   "execution_count": 4,
   "metadata": {},
   "outputs": [
    {
     "name": "stdout",
     "output_type": "stream",
     "text": [
      "(6440797, 24)\n"
     ]
    },
    {
     "data": {
      "text/html": [
       "<div>\n",
       "<style scoped>\n",
       "    .dataframe tbody tr th:only-of-type {\n",
       "        vertical-align: middle;\n",
       "    }\n",
       "\n",
       "    .dataframe tbody tr th {\n",
       "        vertical-align: top;\n",
       "    }\n",
       "\n",
       "    .dataframe thead th {\n",
       "        text-align: right;\n",
       "    }\n",
       "</style>\n",
       "<table border=\"1\" class=\"dataframe\">\n",
       "  <thead>\n",
       "    <tr style=\"text-align: right;\">\n",
       "      <th></th>\n",
       "      <th>대여소번호</th>\n",
       "      <th>대여소명</th>\n",
       "      <th>대여구분코드</th>\n",
       "      <th>성별</th>\n",
       "      <th>연령대코드</th>\n",
       "      <th>이용건수</th>\n",
       "      <th>운동량</th>\n",
       "      <th>탄소량</th>\n",
       "      <th>이동거리</th>\n",
       "      <th>이동시간</th>\n",
       "      <th>...</th>\n",
       "      <th>date</th>\n",
       "      <th>hour</th>\n",
       "      <th>temp</th>\n",
       "      <th>rain</th>\n",
       "      <th>snow</th>\n",
       "      <th>weekday_name</th>\n",
       "      <th>datetime</th>\n",
       "      <th>datetime(year)</th>\n",
       "      <th>datetime(month)</th>\n",
       "      <th>datetime(day)</th>\n",
       "    </tr>\n",
       "  </thead>\n",
       "  <tbody>\n",
       "    <tr>\n",
       "      <th>0</th>\n",
       "      <td>300</td>\n",
       "      <td>정동사거리</td>\n",
       "      <td>정기권</td>\n",
       "      <td>F</td>\n",
       "      <td>~10대</td>\n",
       "      <td>1</td>\n",
       "      <td>37.32</td>\n",
       "      <td>0.34</td>\n",
       "      <td>1450.0</td>\n",
       "      <td>23</td>\n",
       "      <td>...</td>\n",
       "      <td>2018-01-01</td>\n",
       "      <td>0</td>\n",
       "      <td>-3.2</td>\n",
       "      <td>NaN</td>\n",
       "      <td>NaN</td>\n",
       "      <td>Monday</td>\n",
       "      <td>2018-01-01</td>\n",
       "      <td>2018</td>\n",
       "      <td>1</td>\n",
       "      <td>1</td>\n",
       "    </tr>\n",
       "    <tr>\n",
       "      <th>1</th>\n",
       "      <td>300</td>\n",
       "      <td>정동사거리</td>\n",
       "      <td>정기권</td>\n",
       "      <td>M</td>\n",
       "      <td>40대</td>\n",
       "      <td>1</td>\n",
       "      <td>82.61</td>\n",
       "      <td>0.69</td>\n",
       "      <td>2980.0</td>\n",
       "      <td>39</td>\n",
       "      <td>...</td>\n",
       "      <td>2018-01-01</td>\n",
       "      <td>17</td>\n",
       "      <td>1.8</td>\n",
       "      <td>NaN</td>\n",
       "      <td>NaN</td>\n",
       "      <td>Monday</td>\n",
       "      <td>2018-01-01</td>\n",
       "      <td>2018</td>\n",
       "      <td>1</td>\n",
       "      <td>1</td>\n",
       "    </tr>\n",
       "    <tr>\n",
       "      <th>2</th>\n",
       "      <td>300</td>\n",
       "      <td>정동사거리</td>\n",
       "      <td>정기권</td>\n",
       "      <td>M</td>\n",
       "      <td>40대</td>\n",
       "      <td>1</td>\n",
       "      <td>22.10</td>\n",
       "      <td>0.21</td>\n",
       "      <td>900.0</td>\n",
       "      <td>2</td>\n",
       "      <td>...</td>\n",
       "      <td>2018-01-01</td>\n",
       "      <td>18</td>\n",
       "      <td>0.8</td>\n",
       "      <td>NaN</td>\n",
       "      <td>NaN</td>\n",
       "      <td>Monday</td>\n",
       "      <td>2018-01-01</td>\n",
       "      <td>2018</td>\n",
       "      <td>1</td>\n",
       "      <td>1</td>\n",
       "    </tr>\n",
       "    <tr>\n",
       "      <th>3</th>\n",
       "      <td>300</td>\n",
       "      <td>정동사거리</td>\n",
       "      <td>정기권</td>\n",
       "      <td>F</td>\n",
       "      <td>30대</td>\n",
       "      <td>1</td>\n",
       "      <td>139.00</td>\n",
       "      <td>1.25</td>\n",
       "      <td>5400.0</td>\n",
       "      <td>27</td>\n",
       "      <td>...</td>\n",
       "      <td>2018-01-01</td>\n",
       "      <td>22</td>\n",
       "      <td>-1.3</td>\n",
       "      <td>NaN</td>\n",
       "      <td>NaN</td>\n",
       "      <td>Monday</td>\n",
       "      <td>2018-01-01</td>\n",
       "      <td>2018</td>\n",
       "      <td>1</td>\n",
       "      <td>1</td>\n",
       "    </tr>\n",
       "    <tr>\n",
       "      <th>4</th>\n",
       "      <td>300</td>\n",
       "      <td>정동사거리</td>\n",
       "      <td>정기권</td>\n",
       "      <td>M</td>\n",
       "      <td>30대</td>\n",
       "      <td>1</td>\n",
       "      <td>26.43</td>\n",
       "      <td>0.21</td>\n",
       "      <td>890.0</td>\n",
       "      <td>3</td>\n",
       "      <td>...</td>\n",
       "      <td>2018-01-02</td>\n",
       "      <td>6</td>\n",
       "      <td>-3.2</td>\n",
       "      <td>NaN</td>\n",
       "      <td>NaN</td>\n",
       "      <td>Tuesday</td>\n",
       "      <td>2018-01-02</td>\n",
       "      <td>2018</td>\n",
       "      <td>1</td>\n",
       "      <td>2</td>\n",
       "    </tr>\n",
       "  </tbody>\n",
       "</table>\n",
       "<p>5 rows × 24 columns</p>\n",
       "</div>"
      ],
      "text/plain": [
       "   대여소번호    대여소명 대여구분코드 성별 연령대코드  이용건수     운동량   탄소량    이동거리  이동시간  ...  \\\n",
       "0    300   정동사거리    정기권  F  ~10대     1   37.32  0.34  1450.0    23  ...   \n",
       "1    300   정동사거리    정기권  M   40대     1   82.61  0.69  2980.0    39  ...   \n",
       "2    300   정동사거리    정기권  M   40대     1   22.10  0.21   900.0     2  ...   \n",
       "3    300   정동사거리    정기권  F   30대     1  139.00  1.25  5400.0    27  ...   \n",
       "4    300   정동사거리    정기권  M   30대     1   26.43  0.21   890.0     3  ...   \n",
       "\n",
       "         date hour  temp  rain snow  weekday_name    datetime  datetime(year)  \\\n",
       "0  2018-01-01    0  -3.2   NaN  NaN        Monday  2018-01-01            2018   \n",
       "1  2018-01-01   17   1.8   NaN  NaN        Monday  2018-01-01            2018   \n",
       "2  2018-01-01   18   0.8   NaN  NaN        Monday  2018-01-01            2018   \n",
       "3  2018-01-01   22  -1.3   NaN  NaN        Monday  2018-01-01            2018   \n",
       "4  2018-01-02    6  -3.2   NaN  NaN       Tuesday  2018-01-02            2018   \n",
       "\n",
       "   datetime(month) datetime(day)  \n",
       "0                1             1  \n",
       "1                1             1  \n",
       "2                1             1  \n",
       "3                1             1  \n",
       "4                1             2  \n",
       "\n",
       "[5 rows x 24 columns]"
      ]
     },
     "execution_count": 4,
     "metadata": {},
     "output_type": "execute_result"
    }
   ],
   "source": [
    "df=pd.read_csv('some.csv')\n",
    "print(df.shape)\n",
    "df.head()"
   ]
  },
  {
   "cell_type": "code",
   "execution_count": null,
   "metadata": {},
   "outputs": [],
   "source": [
    "a=df[['성별','이용건수']]\n"
   ]
  },
  {
   "cell_type": "code",
   "execution_count": null,
   "metadata": {},
   "outputs": [],
   "source": []
  },
  {
   "cell_type": "code",
   "execution_count": null,
   "metadata": {},
   "outputs": [],
   "source": [
    "ax=a.plot(kind='bar',title='성별차이',rot=0,color=['r','b'])\n",
    "for p in ax.patches:\n",
    "    left,bottom,width,height=p.get_bbox().bounds\n",
    "    ax.annotate('%.1f'%(height) , (left+width/2  ,height*1.02),ha='center')\n",
    "plt.box(False)\n",
    "plt.show()"
   ]
  },
  {
   "cell_type": "code",
   "execution_count": null,
   "metadata": {},
   "outputs": [],
   "source": [
    "a.head()"
   ]
  },
  {
   "cell_type": "code",
   "execution_count": 5,
   "metadata": {},
   "outputs": [
    {
     "data": {
      "text/plain": [
       "Index(['대여소번호', '대여소명', '대여구분코드', '성별', '연령대코드', '이용건수', '운동량', '탄소량', '이동거리',\n",
       "       '이동시간', '구', '동', '위도', '경도', 'date', 'hour', 'temp', 'rain', 'snow',\n",
       "       'weekday_name', 'datetime', 'datetime(year)', 'datetime(month)',\n",
       "       'datetime(day)'],\n",
       "      dtype='object')"
      ]
     },
     "execution_count": 5,
     "metadata": {},
     "output_type": "execute_result"
    }
   ],
   "source": [
    "df.columns"
   ]
  },
  {
   "cell_type": "code",
   "execution_count": 7,
   "metadata": {},
   "outputs": [
    {
     "data": {
      "text/plain": [
       "마포구     589166\n",
       "영등포구    552078\n",
       "송파구     415175\n",
       "종로구     393089\n",
       "광진구     373094\n",
       "성동구     357163\n",
       "서초구     280842\n",
       "강남구     276467\n",
       "서대문구    269373\n",
       "노원구     263141\n",
       "강서구     243823\n",
       "동대문구    239828\n",
       "관악구     227914\n",
       "은평구     212314\n",
       "구로구     210451\n",
       "강동구     206752\n",
       "중구      206710\n",
       "성북구     200592\n",
       "중랑구     173882\n",
       "동작구     166745\n",
       "양천구     164100\n",
       "용산구     144855\n",
       "강북구     111645\n",
       "금천구      87475\n",
       "도봉구      74123\n",
       "Name: 구, dtype: int64"
      ]
     },
     "execution_count": 7,
     "metadata": {},
     "output_type": "execute_result"
    }
   ],
   "source": [
    "df['구'].value_counts()"
   ]
  },
  {
   "cell_type": "code",
   "execution_count": 8,
   "metadata": {},
   "outputs": [],
   "source": [
    "mapo=df[df['구']=='마포구']"
   ]
  },
  {
   "cell_type": "code",
   "execution_count": 9,
   "metadata": {},
   "outputs": [
    {
     "data": {
      "text/html": [
       "<div>\n",
       "<style scoped>\n",
       "    .dataframe tbody tr th:only-of-type {\n",
       "        vertical-align: middle;\n",
       "    }\n",
       "\n",
       "    .dataframe tbody tr th {\n",
       "        vertical-align: top;\n",
       "    }\n",
       "\n",
       "    .dataframe thead th {\n",
       "        text-align: right;\n",
       "    }\n",
       "</style>\n",
       "<table border=\"1\" class=\"dataframe\">\n",
       "  <thead>\n",
       "    <tr style=\"text-align: right;\">\n",
       "      <th></th>\n",
       "      <th>대여소번호</th>\n",
       "      <th>대여소명</th>\n",
       "      <th>대여구분코드</th>\n",
       "      <th>성별</th>\n",
       "      <th>연령대코드</th>\n",
       "      <th>이용건수</th>\n",
       "      <th>운동량</th>\n",
       "      <th>탄소량</th>\n",
       "      <th>이동거리</th>\n",
       "      <th>이동시간</th>\n",
       "      <th>...</th>\n",
       "      <th>date</th>\n",
       "      <th>hour</th>\n",
       "      <th>temp</th>\n",
       "      <th>rain</th>\n",
       "      <th>snow</th>\n",
       "      <th>weekday_name</th>\n",
       "      <th>datetime</th>\n",
       "      <th>datetime(year)</th>\n",
       "      <th>datetime(month)</th>\n",
       "      <th>datetime(day)</th>\n",
       "    </tr>\n",
       "  </thead>\n",
       "  <tbody>\n",
       "    <tr>\n",
       "      <th>61428</th>\n",
       "      <td>144</td>\n",
       "      <td>공덕역 8번출구</td>\n",
       "      <td>정기권</td>\n",
       "      <td>F</td>\n",
       "      <td>20대</td>\n",
       "      <td>1</td>\n",
       "      <td>51.00</td>\n",
       "      <td>0.43</td>\n",
       "      <td>1840.0</td>\n",
       "      <td>9</td>\n",
       "      <td>...</td>\n",
       "      <td>2018-01-01</td>\n",
       "      <td>0</td>\n",
       "      <td>-3.2</td>\n",
       "      <td>NaN</td>\n",
       "      <td>NaN</td>\n",
       "      <td>Monday</td>\n",
       "      <td>2018-01-01</td>\n",
       "      <td>2018</td>\n",
       "      <td>1</td>\n",
       "      <td>1</td>\n",
       "    </tr>\n",
       "    <tr>\n",
       "      <th>61429</th>\n",
       "      <td>144</td>\n",
       "      <td>공덕역 8번출구</td>\n",
       "      <td>일일권</td>\n",
       "      <td>M</td>\n",
       "      <td>20대</td>\n",
       "      <td>2</td>\n",
       "      <td>72.33</td>\n",
       "      <td>0.65</td>\n",
       "      <td>2810.0</td>\n",
       "      <td>74</td>\n",
       "      <td>...</td>\n",
       "      <td>2018-01-01</td>\n",
       "      <td>2</td>\n",
       "      <td>-3.7</td>\n",
       "      <td>NaN</td>\n",
       "      <td>NaN</td>\n",
       "      <td>Monday</td>\n",
       "      <td>2018-01-01</td>\n",
       "      <td>2018</td>\n",
       "      <td>1</td>\n",
       "      <td>1</td>\n",
       "    </tr>\n",
       "    <tr>\n",
       "      <th>61430</th>\n",
       "      <td>144</td>\n",
       "      <td>공덕역 8번출구</td>\n",
       "      <td>정기권</td>\n",
       "      <td>M</td>\n",
       "      <td>50대</td>\n",
       "      <td>1</td>\n",
       "      <td>84.59</td>\n",
       "      <td>0.83</td>\n",
       "      <td>3560.0</td>\n",
       "      <td>54</td>\n",
       "      <td>...</td>\n",
       "      <td>2018-01-01</td>\n",
       "      <td>7</td>\n",
       "      <td>-4.7</td>\n",
       "      <td>NaN</td>\n",
       "      <td>NaN</td>\n",
       "      <td>Monday</td>\n",
       "      <td>2018-01-01</td>\n",
       "      <td>2018</td>\n",
       "      <td>1</td>\n",
       "      <td>1</td>\n",
       "    </tr>\n",
       "    <tr>\n",
       "      <th>61431</th>\n",
       "      <td>144</td>\n",
       "      <td>공덕역 8번출구</td>\n",
       "      <td>정기권</td>\n",
       "      <td>M</td>\n",
       "      <td>30대</td>\n",
       "      <td>1</td>\n",
       "      <td>355.21</td>\n",
       "      <td>3.20</td>\n",
       "      <td>13800.0</td>\n",
       "      <td>60</td>\n",
       "      <td>...</td>\n",
       "      <td>2018-01-01</td>\n",
       "      <td>9</td>\n",
       "      <td>-4.3</td>\n",
       "      <td>NaN</td>\n",
       "      <td>NaN</td>\n",
       "      <td>Monday</td>\n",
       "      <td>2018-01-01</td>\n",
       "      <td>2018</td>\n",
       "      <td>1</td>\n",
       "      <td>1</td>\n",
       "    </tr>\n",
       "    <tr>\n",
       "      <th>61432</th>\n",
       "      <td>144</td>\n",
       "      <td>공덕역 8번출구</td>\n",
       "      <td>정기권</td>\n",
       "      <td>M</td>\n",
       "      <td>40대</td>\n",
       "      <td>1</td>\n",
       "      <td>53.76</td>\n",
       "      <td>0.42</td>\n",
       "      <td>1810.0</td>\n",
       "      <td>12</td>\n",
       "      <td>...</td>\n",
       "      <td>2018-01-01</td>\n",
       "      <td>12</td>\n",
       "      <td>1.5</td>\n",
       "      <td>NaN</td>\n",
       "      <td>NaN</td>\n",
       "      <td>Monday</td>\n",
       "      <td>2018-01-01</td>\n",
       "      <td>2018</td>\n",
       "      <td>1</td>\n",
       "      <td>1</td>\n",
       "    </tr>\n",
       "  </tbody>\n",
       "</table>\n",
       "<p>5 rows × 24 columns</p>\n",
       "</div>"
      ],
      "text/plain": [
       "       대여소번호       대여소명 대여구분코드 성별 연령대코드  이용건수     운동량   탄소량     이동거리  이동시간  \\\n",
       "61428    144   공덕역 8번출구    정기권  F   20대     1   51.00  0.43   1840.0     9   \n",
       "61429    144   공덕역 8번출구    일일권  M   20대     2   72.33  0.65   2810.0    74   \n",
       "61430    144   공덕역 8번출구    정기권  M   50대     1   84.59  0.83   3560.0    54   \n",
       "61431    144   공덕역 8번출구    정기권  M   30대     1  355.21  3.20  13800.0    60   \n",
       "61432    144   공덕역 8번출구    정기권  M   40대     1   53.76  0.42   1810.0    12   \n",
       "\n",
       "       ...        date hour  temp  rain snow  weekday_name    datetime  \\\n",
       "61428  ...  2018-01-01    0  -3.2   NaN  NaN        Monday  2018-01-01   \n",
       "61429  ...  2018-01-01    2  -3.7   NaN  NaN        Monday  2018-01-01   \n",
       "61430  ...  2018-01-01    7  -4.7   NaN  NaN        Monday  2018-01-01   \n",
       "61431  ...  2018-01-01    9  -4.3   NaN  NaN        Monday  2018-01-01   \n",
       "61432  ...  2018-01-01   12   1.5   NaN  NaN        Monday  2018-01-01   \n",
       "\n",
       "       datetime(year)  datetime(month) datetime(day)  \n",
       "61428            2018                1             1  \n",
       "61429            2018                1             1  \n",
       "61430            2018                1             1  \n",
       "61431            2018                1             1  \n",
       "61432            2018                1             1  \n",
       "\n",
       "[5 rows x 24 columns]"
      ]
     },
     "execution_count": 9,
     "metadata": {},
     "output_type": "execute_result"
    }
   ],
   "source": [
    "mapo.head()"
   ]
  },
  {
   "cell_type": "code",
   "execution_count": 10,
   "metadata": {},
   "outputs": [
    {
     "data": {
      "text/plain": [
       "(589166, 24)"
      ]
     },
     "execution_count": 10,
     "metadata": {},
     "output_type": "execute_result"
    }
   ],
   "source": [
    "mapo.shape"
   ]
  },
  {
   "cell_type": "code",
   "execution_count": 11,
   "metadata": {},
   "outputs": [
    {
     "data": {
      "text/plain": [
       "Index(['대여소번호', '대여소명', '대여구분코드', '성별', '연령대코드', '이용건수', '운동량', '탄소량', '이동거리',\n",
       "       '이동시간', '구', '동', '위도', '경도', 'date', 'hour', 'temp', 'rain', 'snow',\n",
       "       'weekday_name', 'datetime', 'datetime(year)', 'datetime(month)',\n",
       "       'datetime(day)'],\n",
       "      dtype='object')"
      ]
     },
     "execution_count": 11,
     "metadata": {},
     "output_type": "execute_result"
    }
   ],
   "source": [
    "mapo.columns"
   ]
  },
  {
   "cell_type": "code",
   "execution_count": 12,
   "metadata": {},
   "outputs": [
    {
     "data": {
      "text/plain": [
       "<matplotlib.axes._subplots.AxesSubplot at 0x216ca76e4e0>"
      ]
     },
     "execution_count": 12,
     "metadata": {},
     "output_type": "execute_result"
    },
    {
     "data": {
      "image/png": "[encoded data removed]",
      "text/plain": [
       "<Figure size 432x288 with 1 Axes>"
      ]
     },
     "metadata": {
      "needs_background": "light"
     },
     "output_type": "display_data"
    }
   ],
   "source": [
    "sns.countplot(data=mapo, x='weekday_name')"
   ]
  },
  {
   "cell_type": "code",
   "execution_count": 13,
   "metadata": {},
   "outputs": [
    {
     "ename": "TypeError",
     "evalue": "unsupported operand type(s) for /: 'str' and 'int'",
     "output_type": "error",
     "traceback": [
      "\u001b[1;31m---------------------------------------------------------------------------\u001b[0m",
      "\u001b[1;31mTypeError\u001b[0m                                 Traceback (most recent call last)",
      "\u001b[1;32m<ipython-input-13-5f186f7e33df>\u001b[0m in \u001b[0;36m<module>\u001b[1;34m\u001b[0m\n\u001b[1;32m----> 1\u001b[1;33m \u001b[0msns\u001b[0m\u001b[1;33m.\u001b[0m\u001b[0mpointplot\u001b[0m\u001b[1;33m(\u001b[0m\u001b[0mdata\u001b[0m\u001b[1;33m=\u001b[0m\u001b[0mmapo\u001b[0m\u001b[1;33m,\u001b[0m\u001b[0mx\u001b[0m\u001b[1;33m=\u001b[0m\u001b[1;34m'weekday_name'\u001b[0m\u001b[1;33m)\u001b[0m\u001b[1;33m\u001b[0m\u001b[1;33m\u001b[0m\u001b[0m\n\u001b[0m",
      "\u001b[1;32m~\\Anaconda3\\lib\\site-packages\\seaborn\\categorical.py\u001b[0m in \u001b[0;36mpointplot\u001b[1;34m(x, y, hue, data, order, hue_order, estimator, ci, n_boot, units, markers, linestyles, dodge, join, scale, orient, color, palette, errwidth, capsize, ax, **kwargs)\u001b[0m\n\u001b[0;32m   3333\u001b[0m                             \u001b[0mestimator\u001b[0m\u001b[1;33m,\u001b[0m \u001b[0mci\u001b[0m\u001b[1;33m,\u001b[0m \u001b[0mn_boot\u001b[0m\u001b[1;33m,\u001b[0m \u001b[0munits\u001b[0m\u001b[1;33m,\u001b[0m\u001b[1;33m\u001b[0m\u001b[1;33m\u001b[0m\u001b[0m\n\u001b[0;32m   3334\u001b[0m                             \u001b[0mmarkers\u001b[0m\u001b[1;33m,\u001b[0m \u001b[0mlinestyles\u001b[0m\u001b[1;33m,\u001b[0m \u001b[0mdodge\u001b[0m\u001b[1;33m,\u001b[0m \u001b[0mjoin\u001b[0m\u001b[1;33m,\u001b[0m \u001b[0mscale\u001b[0m\u001b[1;33m,\u001b[0m\u001b[1;33m\u001b[0m\u001b[1;33m\u001b[0m\u001b[0m\n\u001b[1;32m-> 3335\u001b[1;33m                             orient, color, palette, errwidth, capsize)\n\u001b[0m\u001b[0;32m   3336\u001b[0m \u001b[1;33m\u001b[0m\u001b[0m\n\u001b[0;32m   3337\u001b[0m     \u001b[1;32mif\u001b[0m \u001b[0max\u001b[0m \u001b[1;32mis\u001b[0m \u001b[1;32mNone\u001b[0m\u001b[1;33m:\u001b[0m\u001b[1;33m\u001b[0m\u001b[1;33m\u001b[0m\u001b[0m\n",
      "\u001b[1;32m~\\Anaconda3\\lib\\site-packages\\seaborn\\categorical.py\u001b[0m in \u001b[0;36m__init__\u001b[1;34m(self, x, y, hue, data, order, hue_order, estimator, ci, n_boot, units, markers, linestyles, dodge, join, scale, orient, color, palette, errwidth, capsize)\u001b[0m\n\u001b[0;32m   1678\u001b[0m                                  order, hue_order, units)\n\u001b[0;32m   1679\u001b[0m         \u001b[0mself\u001b[0m\u001b[1;33m.\u001b[0m\u001b[0mestablish_colors\u001b[0m\u001b[1;33m(\u001b[0m\u001b[0mcolor\u001b[0m\u001b[1;33m,\u001b[0m \u001b[0mpalette\u001b[0m\u001b[1;33m,\u001b[0m \u001b[1;36m1\u001b[0m\u001b[1;33m)\u001b[0m\u001b[1;33m\u001b[0m\u001b[1;33m\u001b[0m\u001b[0m\n\u001b[1;32m-> 1680\u001b[1;33m         \u001b[0mself\u001b[0m\u001b[1;33m.\u001b[0m\u001b[0mestimate_statistic\u001b[0m\u001b[1;33m(\u001b[0m\u001b[0mestimator\u001b[0m\u001b[1;33m,\u001b[0m \u001b[0mci\u001b[0m\u001b[1;33m,\u001b[0m \u001b[0mn_boot\u001b[0m\u001b[1;33m)\u001b[0m\u001b[1;33m\u001b[0m\u001b[1;33m\u001b[0m\u001b[0m\n\u001b[0m\u001b[0;32m   1681\u001b[0m \u001b[1;33m\u001b[0m\u001b[0m\n\u001b[0;32m   1682\u001b[0m         \u001b[1;31m# Override the default palette for single-color plots\u001b[0m\u001b[1;33m\u001b[0m\u001b[1;33m\u001b[0m\u001b[1;33m\u001b[0m\u001b[0m\n",
      "\u001b[1;32m~\\Anaconda3\\lib\\site-packages\\seaborn\\categorical.py\u001b[0m in \u001b[0;36mestimate_statistic\u001b[1;34m(self, estimator, ci, n_boot)\u001b[0m\n\u001b[0;32m   1491\u001b[0m                     \u001b[0mstatistic\u001b[0m\u001b[1;33m.\u001b[0m\u001b[0mappend\u001b[0m\u001b[1;33m(\u001b[0m\u001b[0mnp\u001b[0m\u001b[1;33m.\u001b[0m\u001b[0mnan\u001b[0m\u001b[1;33m)\u001b[0m\u001b[1;33m\u001b[0m\u001b[1;33m\u001b[0m\u001b[0m\n\u001b[0;32m   1492\u001b[0m                 \u001b[1;32melse\u001b[0m\u001b[1;33m:\u001b[0m\u001b[1;33m\u001b[0m\u001b[1;33m\u001b[0m\u001b[0m\n\u001b[1;32m-> 1493\u001b[1;33m                     \u001b[0mstatistic\u001b[0m\u001b[1;33m.\u001b[0m\u001b[0mappend\u001b[0m\u001b[1;33m(\u001b[0m\u001b[0mestimator\u001b[0m\u001b[1;33m(\u001b[0m\u001b[0mstat_data\u001b[0m\u001b[1;33m)\u001b[0m\u001b[1;33m)\u001b[0m\u001b[1;33m\u001b[0m\u001b[1;33m\u001b[0m\u001b[0m\n\u001b[0m\u001b[0;32m   1494\u001b[0m \u001b[1;33m\u001b[0m\u001b[0m\n\u001b[0;32m   1495\u001b[0m                 \u001b[1;31m# Get a confidence interval for this estimate\u001b[0m\u001b[1;33m\u001b[0m\u001b[1;33m\u001b[0m\u001b[1;33m\u001b[0m\u001b[0m\n",
      "\u001b[1;32m~\\Anaconda3\\lib\\site-packages\\numpy\\core\\fromnumeric.py\u001b[0m in \u001b[0;36mmean\u001b[1;34m(a, axis, dtype, out, keepdims)\u001b[0m\n\u001b[0;32m   3116\u001b[0m \u001b[1;33m\u001b[0m\u001b[0m\n\u001b[0;32m   3117\u001b[0m     return _methods._mean(a, axis=axis, dtype=dtype,\n\u001b[1;32m-> 3118\u001b[1;33m                           out=out, **kwargs)\n\u001b[0m\u001b[0;32m   3119\u001b[0m \u001b[1;33m\u001b[0m\u001b[0m\n\u001b[0;32m   3120\u001b[0m \u001b[1;33m\u001b[0m\u001b[0m\n",
      "\u001b[1;32m~\\Anaconda3\\lib\\site-packages\\numpy\\core\\_methods.py\u001b[0m in \u001b[0;36m_mean\u001b[1;34m(a, axis, dtype, out, keepdims)\u001b[0m\n\u001b[0;32m     85\u001b[0m             \u001b[0mret\u001b[0m \u001b[1;33m=\u001b[0m \u001b[0mret\u001b[0m\u001b[1;33m.\u001b[0m\u001b[0mdtype\u001b[0m\u001b[1;33m.\u001b[0m\u001b[0mtype\u001b[0m\u001b[1;33m(\u001b[0m\u001b[0mret\u001b[0m \u001b[1;33m/\u001b[0m \u001b[0mrcount\u001b[0m\u001b[1;33m)\u001b[0m\u001b[1;33m\u001b[0m\u001b[1;33m\u001b[0m\u001b[0m\n\u001b[0;32m     86\u001b[0m     \u001b[1;32melse\u001b[0m\u001b[1;33m:\u001b[0m\u001b[1;33m\u001b[0m\u001b[1;33m\u001b[0m\u001b[0m\n\u001b[1;32m---> 87\u001b[1;33m         \u001b[0mret\u001b[0m \u001b[1;33m=\u001b[0m \u001b[0mret\u001b[0m \u001b[1;33m/\u001b[0m \u001b[0mrcount\u001b[0m\u001b[1;33m\u001b[0m\u001b[1;33m\u001b[0m\u001b[0m\n\u001b[0m\u001b[0;32m     88\u001b[0m \u001b[1;33m\u001b[0m\u001b[0m\n\u001b[0;32m     89\u001b[0m     \u001b[1;32mreturn\u001b[0m \u001b[0mret\u001b[0m\u001b[1;33m\u001b[0m\u001b[1;33m\u001b[0m\u001b[0m\n",
      "\u001b[1;31mTypeError\u001b[0m: unsupported operand type(s) for /: 'str' and 'int'"
     ]
    }
   ],
   "source": [
    "sns.pointplot(data=mapo,x='weekday_name')"
   ]
  },
  {
   "cell_type": "code",
   "execution_count": null,
   "metadata": {},
   "outputs": [],
   "source": [
    "aa"
   ]
  },
  {
   "cell_type": "code",
   "execution_count": null,
   "metadata": {},
   "outputs": [],
   "source": []
  }
 ],
 "metadata": {
  "kernelspec": {
   "display_name": "Python 3",
   "language": "python",
   "name": "python3"
  }
 },
 "nbformat": 4,
 "nbformat_minor": 2
}
